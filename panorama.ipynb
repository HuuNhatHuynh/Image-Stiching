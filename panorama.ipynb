{
 "cells": [
  {
   "cell_type": "code",
   "execution_count": 1,
   "metadata": {},
   "outputs": [],
   "source": [
    "import numpy as np\n",
    "import cv2 as cv\n",
    "from skimage import filters\n",
    "import matplotlib.pyplot as plt\n",
    "plt.rcParams['figure.dpi'] = 400"
   ]
  },
  {
   "cell_type": "code",
   "execution_count": 2,
   "metadata": {},
   "outputs": [],
   "source": [
    "def rgb2gray(rgb):\n",
    "    r, g, b = rgb[:,:,0], rgb[:,:,1], rgb[:,:,2]\n",
    "    gray = 0.2989 * r + 0.5870 * g + 0.1140 * b\n",
    "    return gray"
   ]
  },
  {
   "cell_type": "code",
   "execution_count": 3,
   "metadata": {},
   "outputs": [],
   "source": [
    "def ComputeHomographyMatrix(PointSet1, PointSet2):\n",
    "    m = len(PointSet1)\n",
    "    A = np.zeros((2 * m, 9))\n",
    "    for i in range(m):\n",
    "        A[2 * i, :] = [PointSet1[i][0], PointSet1[i][1], 1, 0, 0, 0, -PointSet2[i][0] * PointSet1[i][0], -PointSet2[i][0] * PointSet1[i][1], -PointSet2[i][0]]\n",
    "        A[2 * i + 1, :] = [0, 0, 0, PointSet1[i][0], PointSet1[i][1], 1, -PointSet2[i][1] * PointSet1[i][0], -PointSet2[i][1] * PointSet1[i][1], -PointSet2[i][1]]\n",
    "    _, _, V = np.linalg.svd(A)\n",
    "    H = np.reshape(V[-1, :], (3, 3))\n",
    "    return H"
   ]
  },
  {
   "cell_type": "code",
   "execution_count": 4,
   "metadata": {},
   "outputs": [],
   "source": [
    "def HarrisDetector(img, window = 5, alpha = 0.05, threshold = 2000000):\n",
    "    Ix = filters.sobel_v(img)\n",
    "    Iy = filters.sobel_h(img)\n",
    "    ker = cv.getGaussianKernel(window, sigma = 1)\n",
    "    Ixx = cv.filter2D(Ix ** 2, -1, ker)\n",
    "    Ixy = cv.filter2D(Ix * Iy, -1, ker)\n",
    "    Iyy = cv.filter2D(Iy ** 2, -1, ker)\n",
    "    response = (Ixx * Iyy - Ixy ** 2) - alpha * (Ixx + Iyy) ** 2\n",
    "    response[response < threshold] = 0\n",
    "    return response"
   ]
  }
 ],
 "metadata": {
  "interpreter": {
   "hash": "4422cc3759b705aa723679a87b32e8831351eb21e433223c52da57638ab1bb37"
  },
  "kernelspec": {
   "display_name": "Python 3.10.1 64-bit",
   "language": "python",
   "name": "python3"
  },
  "language_info": {
   "codemirror_mode": {
    "name": "ipython",
    "version": 3
   },
   "file_extension": ".py",
   "mimetype": "text/x-python",
   "name": "python",
   "nbconvert_exporter": "python",
   "pygments_lexer": "ipython3",
   "version": "3.10.1"
  },
  "orig_nbformat": 4
 },
 "nbformat": 4,
 "nbformat_minor": 2
}
